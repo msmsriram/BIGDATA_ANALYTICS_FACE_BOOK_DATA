{
  "nbformat": 4,
  "nbformat_minor": 0,
  "metadata": {
    "colab": {
      "provenance": [],
      "authorship_tag": "ABX9TyNLRHuWytne33WU+Dm2ydzZ",
      "include_colab_link": true
    },
    "kernelspec": {
      "name": "python3",
      "display_name": "Python 3"
    },
    "language_info": {
      "name": "python"
    }
  },
  "cells": [
    {
      "cell_type": "markdown",
      "metadata": {
        "id": "view-in-github",
        "colab_type": "text"
      },
      "source": [
        "<a href=\"https://colab.research.google.com/github/msmsriram/BIGDATA_ANALYTICS_FACE_BOOK_DATA/blob/main/SENTIMENT_ANALYSIS_BD.ipynb\" target=\"_parent\"><img src=\"https://colab.research.google.com/assets/colab-badge.svg\" alt=\"Open In Colab\"/></a>"
      ]
    },
    {
      "cell_type": "code",
      "source": [
        "!pip install pyspark"
      ],
      "metadata": {
        "colab": {
          "base_uri": "https://localhost:8080/"
        },
        "id": "PSho5MtN3tGr",
        "outputId": "0b0627a5-8fd5-4e3e-f3f1-44ec9cf5239b"
      },
      "execution_count": null,
      "outputs": [
        {
          "output_type": "stream",
          "name": "stdout",
          "text": [
            "Looking in indexes: https://pypi.org/simple, https://us-python.pkg.dev/colab-wheels/public/simple/\n",
            "Collecting pyspark\n",
            "  Downloading pyspark-3.4.0.tar.gz (310.8 MB)\n",
            "\u001b[2K     \u001b[90m━━━━━━━━━━━━━━━━━━━━━━━━━━━━━━━━━━━━━━━\u001b[0m \u001b[32m310.8/310.8 MB\u001b[0m \u001b[31m3.6 MB/s\u001b[0m eta \u001b[36m0:00:00\u001b[0m\n",
            "\u001b[?25h  Preparing metadata (setup.py) ... \u001b[?25l\u001b[?25hdone\n",
            "Requirement already satisfied: py4j==0.10.9.7 in /usr/local/lib/python3.9/dist-packages (from pyspark) (0.10.9.7)\n",
            "Building wheels for collected packages: pyspark\n",
            "  Building wheel for pyspark (setup.py) ... \u001b[?25l\u001b[?25hdone\n",
            "  Created wheel for pyspark: filename=pyspark-3.4.0-py2.py3-none-any.whl size=311317145 sha256=d91983715b642247d143dfeec84945435fe8b8cf35cbd3618fb1ec3c5cccfcb0\n",
            "  Stored in directory: /root/.cache/pip/wheels/9f/34/a4/159aa12d0a510d5ff7c8f0220abbea42e5d81ecf588c4fd884\n",
            "Successfully built pyspark\n",
            "Installing collected packages: pyspark\n",
            "Successfully installed pyspark-3.4.0\n"
          ]
        }
      ]
    },
    {
      "cell_type": "code",
      "execution_count": null,
      "metadata": {
        "id": "hUhsapUC2Uli"
      },
      "outputs": [],
      "source": [
        "from IPython import display\n",
        "import math\n",
        "import pandas as pd\n",
        "import numpy as np\n",
        "\n",
        "from pyspark.sql import SQLContext\n",
        "from pyspark import SparkContext\n",
        "\n",
        "from pyspark.sql.types import *"
      ]
    },
    {
      "cell_type": "code",
      "source": [
        "sc =SparkContext()\n",
        "sqlContext = SQLContext(sc)"
      ],
      "metadata": {
        "colab": {
          "base_uri": "https://localhost:8080/"
        },
        "id": "omjlso013q1n",
        "outputId": "7cc688a3-6495-4d32-9724-28bd769902ac"
      },
      "execution_count": null,
      "outputs": [
        {
          "output_type": "stream",
          "name": "stderr",
          "text": [
            "/usr/local/lib/python3.9/dist-packages/pyspark/sql/context.py:112: FutureWarning: Deprecated in 3.0.0. Use SparkSession.builder.getOrCreate() instead.\n",
            "  warnings.warn(\n"
          ]
        }
      ]
    },
    {
      "cell_type": "code",
      "source": [
        "customSchema = StructType([\n",
        "    StructField(\"clean_text\", StringType()),\n",
        "    StructField(\"category\", StringType())])"
      ],
      "metadata": {
        "id": "dATR0Qk03-gm"
      },
      "execution_count": null,
      "outputs": []
    },
    {
      "cell_type": "code",
      "source": [
        "filename1 = '/content/Twitter_Data.csv'\n",
        "\n",
        "filename2 = '/content/Reddit_Data.csv'"
      ],
      "metadata": {
        "id": "iaWu-6Ei4BWt"
      },
      "execution_count": null,
      "outputs": []
    },
    {
      "cell_type": "code",
      "source": [
        "df1 = sqlContext.read.format(\"csv\").option(\"header\", \"true\").schema(customSchema).load(filename1)\n",
        "df1.count()"
      ],
      "metadata": {
        "colab": {
          "base_uri": "https://localhost:8080/"
        },
        "id": "t9KrBZ9o4OQ-",
        "outputId": "3cded77d-3726-4fed-e009-b8b2d5931072"
      },
      "execution_count": null,
      "outputs": [
        {
          "output_type": "execute_result",
          "data": {
            "text/plain": [
              "192131"
            ]
          },
          "metadata": {},
          "execution_count": 7
        }
      ]
    },
    {
      "cell_type": "code",
      "source": [
        "df2 = sqlContext.read.format(\"csv\").option(\"header\", \"true\").schema(customSchema).load(filename2)\n",
        "df2.count()"
      ],
      "metadata": {
        "colab": {
          "base_uri": "https://localhost:8080/"
        },
        "id": "Zpvrv-BP4Qhu",
        "outputId": "5838595b-cb30-4a9d-bad3-31fb149c6e79"
      },
      "execution_count": null,
      "outputs": [
        {
          "output_type": "execute_result",
          "data": {
            "text/plain": [
              "38305"
            ]
          },
          "metadata": {},
          "execution_count": 8
        }
      ]
    },
    {
      "cell_type": "code",
      "source": [
        "df = df1.union(df2)#, emp_acc_LoadCsvDF(\"acc_id\").equalTo(emp_info_LoadCsvDF(\"info_id\")), \"inner\").selectExpr(\"acc_id\", \"name\", \"salary\", \"dept_id\", \"phone\", \"address\", \"email\")\n",
        "df.count()"
      ],
      "metadata": {
        "colab": {
          "base_uri": "https://localhost:8080/"
        },
        "id": "wKJMkMDq4WlF",
        "outputId": "16af3b46-8109-4b24-bdb4-1d9264357f9a"
      },
      "execution_count": null,
      "outputs": [
        {
          "output_type": "execute_result",
          "data": {
            "text/plain": [
              "230436"
            ]
          },
          "metadata": {},
          "execution_count": 9
        }
      ]
    },
    {
      "cell_type": "code",
      "source": [
        "data = df.na.drop(how='any')\n",
        "data.show(5)"
      ],
      "metadata": {
        "colab": {
          "base_uri": "https://localhost:8080/"
        },
        "id": "CJWxn1Fr546n",
        "outputId": "98f34a34-1722-4219-b862-d10044188611"
      },
      "execution_count": null,
      "outputs": [
        {
          "output_type": "stream",
          "name": "stdout",
          "text": [
            "+--------------------+--------+\n",
            "|          clean_text|category|\n",
            "+--------------------+--------+\n",
            "|when modi promise...|      -1|\n",
            "|talk all the nons...|       0|\n",
            "|what did just say...|       1|\n",
            "|asking his suppor...|       1|\n",
            "|answer who among ...|       1|\n",
            "+--------------------+--------+\n",
            "only showing top 5 rows\n",
            "\n"
          ]
        }
      ]
    },
    {
      "cell_type": "code",
      "source": [
        "df.count()"
      ],
      "metadata": {
        "colab": {
          "base_uri": "https://localhost:8080/"
        },
        "id": "Sh42t6K056-X",
        "outputId": "691ac9d4-6273-47b7-d109-5991ca987fd9"
      },
      "execution_count": null,
      "outputs": [
        {
          "output_type": "execute_result",
          "data": {
            "text/plain": [
              "230436"
            ]
          },
          "metadata": {},
          "execution_count": 11
        }
      ]
    },
    {
      "cell_type": "code",
      "source": [
        "data.printSchema()"
      ],
      "metadata": {
        "colab": {
          "base_uri": "https://localhost:8080/"
        },
        "id": "fMwWBNH759Mt",
        "outputId": "98885d54-d01f-43e9-f5b0-9579588f5603"
      },
      "execution_count": null,
      "outputs": [
        {
          "output_type": "stream",
          "name": "stdout",
          "text": [
            "root\n",
            " |-- clean_text: string (nullable = true)\n",
            " |-- category: string (nullable = true)\n",
            "\n"
          ]
        }
      ]
    },
    {
      "cell_type": "code",
      "source": [
        "from pyspark.sql.functions import col\n",
        "\n",
        "data.groupBy(\"category\").count().orderBy(col(\"count\").desc()).show()"
      ],
      "metadata": {
        "colab": {
          "base_uri": "https://localhost:8080/"
        },
        "id": "bbkuqpgr5--F",
        "outputId": "2f55c475-ef60-4ff9-e581-6341a872885f"
      },
      "execution_count": null,
      "outputs": [
        {
          "output_type": "stream",
          "name": "stdout",
          "text": [
            "+--------+-----+\n",
            "|category|count|\n",
            "+--------+-----+\n",
            "|       1|86224|\n",
            "|       0|66446|\n",
            "|      -1|42908|\n",
            "+--------+-----+\n",
            "\n"
          ]
        }
      ]
    },
    {
      "cell_type": "markdown",
      "source": [
        "#Model Pipeline\n",
        "regexTokenizer: Tokenization (with Regular Expression)\n",
        "\n",
        "stopwordsRemover: Remove Stop Words\n",
        "\n",
        "countVectors: Count vectors (“document-term vectors”)"
      ],
      "metadata": {
        "id": "MostrR3B6EO7"
      }
    },
    {
      "cell_type": "code",
      "source": [
        "from pyspark.ml.feature import RegexTokenizer, StopWordsRemover, CountVectorizer\n",
        "from pyspark.ml.classification import LogisticRegression\n",
        "\n",
        "# regular expression tokenizer\n",
        "regexTokenizer = RegexTokenizer(inputCol=\"clean_text\", outputCol=\"words\", pattern=\"\\\\W\")\n",
        "\n",
        "# stop words\n",
        "add_stopwords = [\"http\",\"https\",\"amp\",\"rt\",\"t\",\"c\",\"the\"]\n",
        "\n",
        "stopwordsRemover = StopWordsRemover(inputCol=\"words\", outputCol=\"filtered\").setStopWords(add_stopwords)\n",
        "\n",
        "# bag of words count\n",
        "countVectors = CountVectorizer(inputCol=\"filtered\", outputCol=\"features\", vocabSize=30000, minDF=5)"
      ],
      "metadata": {
        "id": "gQJyasse6BWO"
      },
      "execution_count": null,
      "outputs": []
    },
    {
      "cell_type": "code",
      "source": [
        "from pyspark.ml import Pipeline\n",
        "from pyspark.ml.feature import OneHotEncoder, StringIndexer, VectorAssembler\n",
        "label_stringIdx = StringIndexer(inputCol = \"category\", outputCol = \"label\")\n",
        "\n",
        "pipeline = Pipeline(stages=[regexTokenizer, stopwordsRemover, countVectors, label_stringIdx])\n",
        "\n",
        "# Fit the pipeline to training documents.\n",
        "pipelineFit = pipeline.fit(data)\n",
        "dataset = pipelineFit.transform(data)\n",
        "dataset.show(5)\n"
      ],
      "metadata": {
        "colab": {
          "base_uri": "https://localhost:8080/"
        },
        "id": "f3sNz5Ej8d_O",
        "outputId": "7ed4b2b4-3066-4327-d4a1-d5cb73a959b8"
      },
      "execution_count": null,
      "outputs": [
        {
          "output_type": "stream",
          "name": "stdout",
          "text": [
            "+--------------------+--------+--------------------+--------------------+--------------------+-----+\n",
            "|          clean_text|category|               words|            filtered|            features|label|\n",
            "+--------------------+--------+--------------------+--------------------+--------------------+-----+\n",
            "|when modi promise...|      -1|[when, modi, prom...|[when, modi, prom...|(24654,[0,1,7,30,...|  2.0|\n",
            "|talk all the nons...|       0|[talk, all, the, ...|[talk, all, nonse...|(24654,[0,1,2,8,1...|  1.0|\n",
            "|what did just say...|       1|[what, did, just,...|[what, did, just,...|(24654,[0,2,3,20,...|  0.0|\n",
            "|asking his suppor...|       1|[asking, his, sup...|[asking, his, sup...|(24654,[0,6,7,8,1...|  0.0|\n",
            "|answer who among ...|       1|[answer, who, amo...|[answer, who, amo...|(24654,[0,22,69,1...|  0.0|\n",
            "+--------------------+--------+--------------------+--------------------+--------------------+-----+\n",
            "only showing top 5 rows\n",
            "\n"
          ]
        }
      ]
    },
    {
      "cell_type": "markdown",
      "source": [
        "#Partition Training & Test sets"
      ],
      "metadata": {
        "id": "qltreznG862A"
      }
    },
    {
      "cell_type": "code",
      "source": [
        "(trainingData, testData) = dataset.randomSplit([0.7, 0.3], seed = 100)\n",
        "print(\"Training Dataset Count: \" + str(trainingData.count()))\n",
        "print(\"Test Dataset Count: \" + str(testData.count()))"
      ],
      "metadata": {
        "colab": {
          "base_uri": "https://localhost:8080/"
        },
        "id": "-mCms6Br8g4O",
        "outputId": "3dea222b-ff0e-46e4-8d68-96d1e32f3522"
      },
      "execution_count": null,
      "outputs": [
        {
          "output_type": "stream",
          "name": "stdout",
          "text": [
            "Training Dataset Count: 136811\n",
            "Test Dataset Count: 58767\n"
          ]
        }
      ]
    },
    {
      "cell_type": "markdown",
      "source": [
        "#Model Training and Evaluation"
      ],
      "metadata": {
        "id": "gww4gzRj9F5V"
      }
    },
    {
      "cell_type": "code",
      "source": [
        "lr = LogisticRegression(maxIter=20, regParam=0.3, elasticNetParam=0)\n",
        "lrModel = lr.fit(trainingData)\n",
        "\n",
        "predictions = lrModel.transform(testData)\n",
        "\n",
        "predictions.filter(predictions['prediction'] == 0).select(\"clean_text\",\"category\",\"probability\",\"label\",\"prediction\")\\\n",
        ".orderBy(\"probability\", ascending=False).show(n = 10, truncate = 30)"
      ],
      "metadata": {
        "colab": {
          "base_uri": "https://localhost:8080/"
        },
        "id": "gzD-boVA89h_",
        "outputId": "89af9fa1-80bd-4a0f-9914-a53a06865d17"
      },
      "execution_count": null,
      "outputs": [
        {
          "output_type": "stream",
          "name": "stdout",
          "text": [
            "+------------------------------+--------+------------------------------+-----+----------+\n",
            "|                    clean_text|category|                   probability|label|prediction|\n",
            "+------------------------------+--------+------------------------------+-----+----------+\n",
            "| just shut and follow ikeda...|       1|[0.9999999997595463,1.56086...|  0.0|       0.0|\n",
            "|even the most important peo...|       1|[0.9999999979322731,8.98315...|  0.0|       0.0|\n",
            "|best news addressed these i...|       1|[0.999999978389196,3.043396...|  0.0|       0.0|\n",
            "|upa had one the highest gro...|       1|[0.9999999606091137,3.98797...|  0.0|       0.0|\n",
            "| 006 save mojo 4653 full ep...|       1|[0.9999999028508141,4.19822...|  0.0|       0.0|\n",
            "| ‘force snapdeal dump aamir...|      -1|[0.999999719540893,1.971494...|  2.0|       0.0|\n",
            "|not even half brilliant evi...|       1|[0.9999996827315326,5.01054...|  0.0|       0.0|\n",
            "| posting voter predictions ...|       1|[0.9999993942718627,1.17133...|  0.0|       0.0|\n",
            "| just good man wants good m...|       1|[0.9999993044943979,7.26680...|  0.0|       0.0|\n",
            "| modi’ government last four...|       1|[0.9999992227435839,1.31042...|  0.0|       0.0|\n",
            "+------------------------------+--------+------------------------------+-----+----------+\n",
            "only showing top 10 rows\n",
            "\n"
          ]
        }
      ]
    },
    {
      "cell_type": "code",
      "source": [
        "from pyspark.ml.evaluation import MulticlassClassificationEvaluator\n",
        "evaluator = MulticlassClassificationEvaluator(predictionCol=\"prediction\")\n",
        "lrAccuracy = evaluator.evaluate(predictions)\n",
        "print(lrAccuracy)"
      ],
      "metadata": {
        "colab": {
          "base_uri": "https://localhost:8080/"
        },
        "id": "230Idetd9JRd",
        "outputId": "77778df5-6d24-4fb1-f93a-836b17789863"
      },
      "execution_count": null,
      "outputs": [
        {
          "output_type": "stream",
          "name": "stdout",
          "text": [
            "0.7635389430397557\n"
          ]
        }
      ]
    },
    {
      "cell_type": "code",
      "source": [
        "trainingSummary = lrModel.summary\n",
        "\n",
        "# for multiclass, we can inspect metrics on a per-label basis\n",
        "print(\"\\nFalse positive rate by label:\")\n",
        "for i, rate in enumerate(trainingSummary.falsePositiveRateByLabel):\n",
        "    print(\"label %d: %s\" % (i, rate))\n",
        "\n",
        "print(\"\\nTrue positive rate by label:\")\n",
        "for i, rate in enumerate(trainingSummary.truePositiveRateByLabel):\n",
        "    print(\"label %d: %s\" % (i, rate))\n",
        "\n",
        "print(\"\\nPrecision by label:\")\n",
        "for i, prec in enumerate(trainingSummary.precisionByLabel):\n",
        "    print(\"label %d: %s\" % (i, prec))\n",
        "\n",
        "print(\"\\nRecall by label:\")\n",
        "for i, rec in enumerate(trainingSummary.recallByLabel):\n",
        "    print(\"label %d: %s\" % (i, rec))\n",
        "\n",
        "print(\"\\nF-measure by label:\")\n",
        "for i, f in enumerate(trainingSummary.fMeasureByLabel()):\n",
        "    print(\"label %d: %s\" % (i, f))\n",
        "\n",
        "accuracy = trainingSummary.accuracy\n",
        "falsePositiveRate = trainingSummary.weightedFalsePositiveRate\n",
        "truePositiveRate = trainingSummary.weightedTruePositiveRate\n",
        "fMeasure = trainingSummary.weightedFMeasure()\n",
        "precision = trainingSummary.weightedPrecision\n",
        "recall = trainingSummary.weightedRecall\n",
        "print(\"\\nAccuracy: %s\\n\\nFPR: %s\\n\\nTPR: %s\\n\\nF-measure: %s\\n\\nPrecision: %s\\n\\nRecall: %s\"\n",
        "      % (accuracy, falsePositiveRate, truePositiveRate, fMeasure, precision, recall))"
      ],
      "metadata": {
        "colab": {
          "base_uri": "https://localhost:8080/"
        },
        "id": "epTJeXS39WaF",
        "outputId": "547650df-4192-4b08-f788-349dab83eeb5"
      },
      "execution_count": null,
      "outputs": [
        {
          "output_type": "stream",
          "name": "stdout",
          "text": [
            "\n",
            "False positive rate by label:\n",
            "label 0: 0.09672817694019108\n",
            "label 1: 0.12477475983594778\n",
            "label 2: 0.007297218813522805\n",
            "\n",
            "True positive rate by label:\n",
            "label 0: 0.9032631910067714\n",
            "label 1: 0.9424404556437694\n",
            "label 2: 0.6358373810632777\n",
            "\n",
            "Precision by label:\n",
            "label 0: 0.8806921822789714\n",
            "label 1: 0.7946735551472595\n",
            "label 2: 0.960836559247901\n",
            "\n",
            "Recall by label:\n",
            "label 0: 0.9032631910067714\n",
            "label 1: 0.9424404556437694\n",
            "label 2: 0.6358373810632777\n",
            "\n",
            "F-measure by label:\n",
            "label 0: 0.8918348998774008\n",
            "label 1: 0.8622721395931822\n",
            "label 2: 0.7652605657770926\n",
            "\n",
            "Accuracy: 0.8577819035019114\n",
            "\n",
            "FPR: 0.08658205909157304\n",
            "\n",
            "TPR: 0.8577819035019114\n",
            "\n",
            "F-measure: 0.8540099852208223\n",
            "\n",
            "Precision: 0.8691568837877899\n",
            "\n",
            "Recall: 0.8577819035019114\n"
          ]
        }
      ]
    },
    {
      "cell_type": "markdown",
      "source": [
        "#Logistic Regression using TF-IDF Features"
      ],
      "metadata": {
        "id": "EAnq9fFd9ixC"
      }
    },
    {
      "cell_type": "code",
      "source": [
        "from pyspark.ml.feature import HashingTF, IDF\n",
        "\n",
        "hashingTF = HashingTF(inputCol=\"filtered\", outputCol=\"rawFeatures\", numFeatures=30000)\n",
        "idf = IDF(inputCol=\"rawFeatures\", outputCol=\"features\", minDocFreq=5) #minDocFreq: remove sparse terms\n",
        "pipeline = Pipeline(stages=[regexTokenizer, stopwordsRemover, hashingTF, idf, label_stringIdx])\n",
        "\n",
        "pipelineFit = pipeline.fit(data)\n",
        "dataset = pipelineFit.transform(data)\n",
        "\n",
        "(trainingData, testData) = dataset.randomSplit([0.7, 0.3], seed = 100)\n",
        "lr = LogisticRegression(maxIter=20, regParam=0.3, elasticNetParam=0)\n",
        "lrModel = lr.fit(trainingData)\n",
        "\n",
        "predictions = lrModel.transform(testData)\n",
        "\n",
        "predictions.filter(predictions['prediction'] == 0) \\\n",
        "    .select(\"clean_text\",\"category\",\"probability\",\"label\",\"prediction\") \\\n",
        "    .orderBy(\"probability\", ascending=False) \\\n",
        "    .show(n = 10, truncate = 30)"
      ],
      "metadata": {
        "colab": {
          "base_uri": "https://localhost:8080/"
        },
        "id": "JKxAur2Y9bdu",
        "outputId": "65173511-29ef-4b34-a397-232263285678"
      },
      "execution_count": null,
      "outputs": [
        {
          "output_type": "stream",
          "name": "stdout",
          "text": [
            "+------------------------------+--------+------------------------------+-----+----------+\n",
            "|                    clean_text|category|                   probability|label|prediction|\n",
            "+------------------------------+--------+------------------------------+-----+----------+\n",
            "| just shut and follow ikeda...|       1|[0.9999999999956422,6.79768...|  0.0|       0.0|\n",
            "|even the most important peo...|       1|[0.9999999966676953,1.28149...|  0.0|       0.0|\n",
            "|upa had one the highest gro...|       1|[0.9999999964287811,1.76005...|  0.0|       0.0|\n",
            "|best news addressed these i...|       1|[0.9999999870287959,2.86825...|  0.0|       0.0|\n",
            "| modi’ government last four...|       1|[0.9999999462160947,3.05575...|  0.0|       0.0|\n",
            "|not even half brilliant evi...|       1|[0.9999999013842449,1.95817...|  0.0|       0.0|\n",
            "| 006 save mojo 4653 full ep...|       1|[0.9999998747268489,4.59142...|  0.0|       0.0|\n",
            "|thanks for doing this ama t...|       1|[0.9999998420152606,3.15519...|  0.0|       0.0|\n",
            "| very interested history an...|       1|[0.9999995703091836,1.31310...|  0.0|       0.0|\n",
            "|translations armor names hu...|      -1|[0.9999995343035039,4.64687...|  2.0|       0.0|\n",
            "+------------------------------+--------+------------------------------+-----+----------+\n",
            "only showing top 10 rows\n",
            "\n"
          ]
        }
      ]
    },
    {
      "cell_type": "code",
      "source": [
        "evaluator = MulticlassClassificationEvaluator(predictionCol=\"prediction\")\n",
        "evaluator.evaluate(predictions)"
      ],
      "metadata": {
        "colab": {
          "base_uri": "https://localhost:8080/"
        },
        "id": "lQ1ClVsW9lnd",
        "outputId": "cf96f429-9b62-437e-ecf4-0525d26427b6"
      },
      "execution_count": null,
      "outputs": [
        {
          "output_type": "execute_result",
          "data": {
            "text/plain": [
              "0.7379194858251854"
            ]
          },
          "metadata": {},
          "execution_count": 21
        }
      ]
    },
    {
      "cell_type": "markdown",
      "source": [
        "#Cross-Validation"
      ],
      "metadata": {
        "id": "5EBeolgm9-rq"
      }
    },
    {
      "cell_type": "code",
      "source": [
        "pipeline = Pipeline(stages=[regexTokenizer, stopwordsRemover, countVectors, label_stringIdx])\n",
        "\n",
        "pipelineFit = pipeline.fit(data)\n",
        "dataset = pipelineFit.transform(data)\n",
        "(trainingData, testData) = dataset.randomSplit([0.7, 0.3], seed = 100)\n",
        "\n",
        "lr = LogisticRegression(maxIter=20, regParam=0.3, elasticNetParam=0)\n"
      ],
      "metadata": {
        "id": "C71vC_Yn93N1"
      },
      "execution_count": null,
      "outputs": []
    },
    {
      "cell_type": "code",
      "source": [
        "from pyspark.ml.tuning import ParamGridBuilder, CrossValidator\n",
        "\n",
        "# Create ParamGrid for Cross Validation\n",
        "paramGrid = (ParamGridBuilder()\n",
        "             .addGrid(lr.regParam, [0.1, 0.3, 0.5]) # regularization parameter\n",
        "             .addGrid(lr.elasticNetParam, [0.0, 0.1, 0.2]) # Elastic Net Parameter (Ridge = 0)\n",
        "#            .addGrid(model.maxIter, [10, 20, 50]) #Number of iterations\n",
        "#            .addGrid(idf.numFeatures, [10, 100, 1000]) # Number of features\n",
        "             .build())\n",
        "\n",
        "# Create 5-fold CrossValidator\n",
        "cv = CrossValidator(estimator=lr, \\\n",
        "                    estimatorParamMaps=paramGrid, \\\n",
        "                    evaluator=evaluator, \\\n",
        "                    numFolds=5)\n",
        "\n",
        "cvModel = cv.fit(trainingData)\n",
        "\n",
        "predictions = cvModel.transform(testData)\n",
        "# Evaluate best model\n",
        "evaluator = MulticlassClassificationEvaluator(predictionCol=\"prediction\")\n",
        "evaluator.evaluate(predictions)"
      ],
      "metadata": {
        "colab": {
          "base_uri": "https://localhost:8080/"
        },
        "id": "M9uhWc4D-ABd",
        "outputId": "fbb32f81-ae26-4b2c-8956-cc99edd5961b"
      },
      "execution_count": null,
      "outputs": [
        {
          "output_type": "execute_result",
          "data": {
            "text/plain": [
              "0.8216800367152399"
            ]
          },
          "metadata": {},
          "execution_count": 23
        }
      ]
    },
    {
      "cell_type": "markdown",
      "source": [
        "#Naive Bayes"
      ],
      "metadata": {
        "id": "UT9J5Ark-Kb2"
      }
    },
    {
      "cell_type": "code",
      "source": [
        "from pyspark.ml.classification import NaiveBayes\n",
        "nb = NaiveBayes(smoothing=1)\n",
        "nbModel = nb.fit(trainingData)\n",
        "predictions = nbModel.transform(testData)\n",
        "predictions.filter(predictions['prediction'] == 0) \\\n",
        "    .select(\"clean_text\",\"category\",\"probability\",\"label\",\"prediction\") \\\n",
        "    .orderBy(\"probability\", ascending=False) \\\n",
        "    .show(n = 10, truncate = 30)"
      ],
      "metadata": {
        "colab": {
          "base_uri": "https://localhost:8080/"
        },
        "id": "cvGzxmw5-GKd",
        "outputId": "47e1f32d-7245-418b-bb52-66ad7170d5f5"
      },
      "execution_count": null,
      "outputs": [
        {
          "output_type": "stream",
          "name": "stdout",
          "text": [
            "+------------------------------+--------+------------------------------+-----+----------+\n",
            "|                    clean_text|category|                   probability|label|prediction|\n",
            "+------------------------------+--------+------------------------------+-----+----------+\n",
            "|respected sir sar and madam...|       1|[1.0,3.945173214204318E-18,...|  0.0|       0.0|\n",
            "|respected sir sar and madam...|       1|[1.0,1.3028075269905147E-18...|  0.0|       0.0|\n",
            "|respected sir sar and madam...|       1|[1.0,3.398139781643675E-21,...|  0.0|       0.0|\n",
            "|respected sir sar and madam...|       1|[1.0,1.0489765997755373E-21...|  0.0|       0.0|\n",
            "| things opinion most likely...|       1|[1.0,6.567869835075215E-30,...|  0.0|       0.0|\n",
            "|the team has list the free ...|       1|[1.0,3.464936394451876E-31,...|  0.0|       0.0|\n",
            "| list the free encyclopedia...|       1|[1.0,1.9059931751739877E-33...|  0.0|       0.0|\n",
            "|donating blood the free enc...|       1|[1.0,1.575793672102376E-34,...|  0.0|       0.0|\n",
            "|also why india the team spo...|       1|[1.0,9.412452337538822E-36,...|  0.0|       0.0|\n",
            "|very few more than six year...|       1|[1.0,6.940360905786251E-36,...|  0.0|       0.0|\n",
            "+------------------------------+--------+------------------------------+-----+----------+\n",
            "only showing top 10 rows\n",
            "\n"
          ]
        }
      ]
    },
    {
      "cell_type": "code",
      "source": [
        "evaluator = MulticlassClassificationEvaluator(predictionCol=\"prediction\")\n",
        "nbAccuracy = evaluator.evaluate(predictions)\n",
        "print(nbAccuracy)"
      ],
      "metadata": {
        "colab": {
          "base_uri": "https://localhost:8080/"
        },
        "id": "awLjHEljAL_9",
        "outputId": "83c165de-7219-409f-f943-70c464be8394"
      },
      "execution_count": null,
      "outputs": [
        {
          "output_type": "stream",
          "name": "stdout",
          "text": [
            "0.7639990400037707\n"
          ]
        }
      ]
    },
    {
      "cell_type": "markdown",
      "source": [
        "#DecisionTreeClassifier"
      ],
      "metadata": {
        "id": "64Sq2pQQAZa3"
      }
    },
    {
      "cell_type": "code",
      "source": [
        "from pyspark.ml.classification import DecisionTreeClassifier\n",
        "dt = DecisionTreeClassifier(featuresCol = 'features', labelCol = 'label', maxDepth = 3)\n",
        "dtModel = dt.fit(trainingData)\n",
        "predictions = dtModel.transform(testData)\n",
        "predictions.filter(predictions['prediction'] == 0) \\\n",
        "    .select(\"clean_text\",\"category\",\"probability\",\"label\",\"prediction\") \\\n",
        "    .orderBy(\"probability\", ascending=False) \\\n",
        "    .show(n = 10, truncate = 30)"
      ],
      "metadata": {
        "colab": {
          "base_uri": "https://localhost:8080/"
        },
        "id": "ZmcyVf_XAWIW",
        "outputId": "5d3dd3bd-b723-475d-86f8-b28d8bf89dfb"
      },
      "execution_count": null,
      "outputs": [
        {
          "output_type": "stream",
          "name": "stdout",
          "text": [
            "+------------------------------+--------+------------------------------+-----+----------+\n",
            "|                    clean_text|category|                   probability|label|prediction|\n",
            "+------------------------------+--------+------------------------------+-----+----------+\n",
            "| imran khan and modi who be...|       1|[0.9018935683969964,0.01762...|  0.0|       0.0|\n",
            "| admit ’ problem but ’ glob...|       1|[0.9018935683969964,0.01762...|  0.0|       0.0|\n",
            "| joke the day have the abil...|       1|[0.9018935683969964,0.01762...|  0.0|       0.0|\n",
            "| don really listen indian s...|       1|[0.9018935683969964,0.01762...|  0.0|       0.0|\n",
            "| 100 kim rockhyun nominated...|       1|[0.9018935683969964,0.01762...|  0.0|       0.0|\n",
            "| also think lot about palad...|       1|[0.9018935683969964,0.01762...|  0.0|       0.0|\n",
            "|2014 election bjp aap 329 a...|       1|[0.9018935683969964,0.01762...|  0.0|       0.0|\n",
            "| and hamare desh right wing...|       1|[0.9018935683969964,0.01762...|  0.0|       0.0|\n",
            "|aap too greedy they are ask...|       1|[0.9018935683969964,0.01762...|  0.0|       0.0|\n",
            "| anything would make the mu...|       1|[0.9018935683969964,0.01762...|  0.0|       0.0|\n",
            "+------------------------------+--------+------------------------------+-----+----------+\n",
            "only showing top 10 rows\n",
            "\n"
          ]
        }
      ]
    },
    {
      "cell_type": "code",
      "source": [
        "evaluator = MulticlassClassificationEvaluator(predictionCol=\"prediction\")\n",
        "dtAccuracy = evaluator.evaluate(predictions)\n",
        "print(dtAccuracy)\n"
      ],
      "metadata": {
        "colab": {
          "base_uri": "https://localhost:8080/"
        },
        "id": "WTFsYMz3Ac00",
        "outputId": "b92b0a17-bafc-4423-ee1f-6d0f4951f4ee"
      },
      "execution_count": null,
      "outputs": [
        {
          "output_type": "stream",
          "name": "stdout",
          "text": [
            "0.2693168540063872\n"
          ]
        }
      ]
    },
    {
      "cell_type": "markdown",
      "source": [
        "#Random Forest"
      ],
      "metadata": {
        "id": "mD467XpRBsTG"
      }
    },
    {
      "cell_type": "code",
      "source": [
        "from pyspark.ml.classification import RandomForestClassifier\n",
        "rf = RandomForestClassifier(labelCol=\"label\", \\\n",
        "                            featuresCol=\"features\", \\\n",
        "                            numTrees = 100, \\\n",
        "                            maxDepth = 4, \\\n",
        "                            maxBins = 32)\n",
        "# Train model with Training Data\n",
        "rfModel = rf.fit(trainingData)\n",
        "predictions = rfModel.transform(testData)\n",
        "predictions.filter(predictions['prediction'] == 0) \\\n",
        "    .select(\"clean_text\",\"category\",\"probability\",\"label\",\"prediction\") \\\n",
        "    .orderBy(\"probability\", ascending=False) \\\n",
        "    .show(n = 10, truncate = 30)"
      ],
      "metadata": {
        "colab": {
          "base_uri": "https://localhost:8080/"
        },
        "id": "xbfwEazyBqJM",
        "outputId": "443de123-c6e3-4f20-8561-9764379a7a64"
      },
      "execution_count": null,
      "outputs": [
        {
          "output_type": "stream",
          "name": "stdout",
          "text": [
            "+------------------------------+--------+------------------------------+-----+----------+\n",
            "|                    clean_text|category|                   probability|label|prediction|\n",
            "+------------------------------+--------+------------------------------+-----+----------+\n",
            "|brilliant point point break...|       1|[0.5968296777029294,0.15197...|  0.0|       0.0|\n",
            "| just shut and follow ikeda...|       1|[0.5891102257063635,0.18993...|  0.0|       0.0|\n",
            "|you are simpleton and have ...|       1|[0.5861334592479711,0.16154...|  0.0|       0.0|\n",
            "|the limits acceptable disco...|       1|[0.5748986505311924,0.17579...|  0.0|       0.0|\n",
            "| women rights this needs ma...|       1|[0.565415884137297,0.184015...|  0.0|       0.0|\n",
            "|they are the textbook defin...|       1|[0.564376538150664,0.210291...|  0.0|       0.0|\n",
            "|upa was good maybe even mar...|       1|[0.5616921698727282,0.19050...|  0.0|       0.0|\n",
            "|hello have few questions re...|       1|[0.55759347993791,0.1927853...|  0.0|       0.0|\n",
            "|not even half brilliant evi...|       1|[0.5575366312849322,0.21287...|  0.0|       0.0|\n",
            "|let get this straight you e...|      -1|[0.5528563563115456,0.19171...|  2.0|       0.0|\n",
            "+------------------------------+--------+------------------------------+-----+----------+\n",
            "only showing top 10 rows\n",
            "\n"
          ]
        }
      ]
    },
    {
      "cell_type": "code",
      "source": [
        "evaluator = MulticlassClassificationEvaluator(predictionCol=\"prediction\")\n",
        "rfAccuracy = evaluator.evaluate(predictions)\n",
        "print(rfAccuracy)"
      ],
      "metadata": {
        "colab": {
          "base_uri": "https://localhost:8080/"
        },
        "id": "Qzrn1-CNBvRT",
        "outputId": "787e5280-2178-4b94-9228-a6622ffe2c72"
      },
      "execution_count": null,
      "outputs": [
        {
          "output_type": "stream",
          "name": "stdout",
          "text": [
            "0.2682815706404554\n"
          ]
        }
      ]
    },
    {
      "cell_type": "markdown",
      "source": [
        "#OnevsRest classifer"
      ],
      "metadata": {
        "id": "sP1Oq93BC7yr"
      }
    },
    {
      "cell_type": "code",
      "source": [
        "from pyspark.ml.classification import LogisticRegression, OneVsRest\n",
        "\n",
        "lr = LogisticRegression(maxIter=20, regParam=0.3, elasticNetParam=0)\n",
        "\n",
        "ovr = OneVsRest(classifier=lr)\n",
        "\n",
        "ovrModel = ovr.fit(trainingData)\n",
        "\n",
        "# score the model on test data.\n",
        "predictions = ovrModel.transform(testData)\n",
        "\n",
        "predictions.filter(predictions['prediction'] == 0) \\\n",
        "    .select(\"clean_text\",\"category\",\"label\",\"prediction\") \\\n",
        "    .show(n = 10, truncate = 30)"
      ],
      "metadata": {
        "colab": {
          "base_uri": "https://localhost:8080/"
        },
        "id": "rulc6GIbC5v1",
        "outputId": "63070877-e662-4290-acf5-cb9438ce8699"
      },
      "execution_count": null,
      "outputs": [
        {
          "output_type": "stream",
          "name": "stdout",
          "text": [
            "+------------------------------+--------+-----+----------+\n",
            "|                    clean_text|category|label|prediction|\n",
            "+------------------------------+--------+-----+----------+\n",
            "| abuser modi bhakth just as...|       0|  1.0|       0.0|\n",
            "| after grand success coffee...|       1|  0.0|       0.0|\n",
            "| also fuel for mahagathband...|       1|  0.0|       0.0|\n",
            "| breaking india shoots down...|       1|  0.0|       0.0|\n",
            "| cant hate modi without lov...|      -1|  2.0|       0.0|\n",
            "| congratulations the entire...|       1|  0.0|       0.0|\n",
            "| cool down chowkidar relax ...|       1|  0.0|       0.0|\n",
            "| desperation win shows surv...|       1|  0.0|       0.0|\n",
            "| dont believe modi will spa...|       1|  0.0|       0.0|\n",
            "| gadkari only has hold vidh...|       1|  0.0|       0.0|\n",
            "+------------------------------+--------+-----+----------+\n",
            "only showing top 10 rows\n",
            "\n"
          ]
        }
      ]
    },
    {
      "cell_type": "code",
      "source": [
        "evaluator = MulticlassClassificationEvaluator(predictionCol=\"prediction\")\n",
        "ovrAccuracy = evaluator.evaluate(predictions)\n",
        "print(ovrAccuracy)"
      ],
      "metadata": {
        "colab": {
          "base_uri": "https://localhost:8080/"
        },
        "id": "zzjv2DamC-hL",
        "outputId": "ef53daf4-0eed-4f36-d4bc-1f2a63816d84"
      },
      "execution_count": null,
      "outputs": [
        {
          "output_type": "stream",
          "name": "stdout",
          "text": [
            "0.7385231768767154\n"
          ]
        }
      ]
    },
    {
      "cell_type": "markdown",
      "source": [
        "#Visualization"
      ],
      "metadata": {
        "id": "VdBqyLLGDRQW"
      }
    },
    {
      "cell_type": "code",
      "source": [
        "import matplotlib.pyplot as plt\n",
        "import numpy as np\n",
        "model = ['Logistic regression', 'Naive Bayes', 'Random Forest', 'OneVsRest']\n",
        "accuracy = [lrAccuracy,nbAccuracy,rfAccuracy, ovrAccuracy]"
      ],
      "metadata": {
        "id": "5c8veqY3DNHx"
      },
      "execution_count": null,
      "outputs": []
    },
    {
      "cell_type": "code",
      "source": [
        "def plot_bar_x():\n",
        "    # this is for plotting purpose\n",
        "    index = np.arange(len(model))\n",
        "    plt.bar(index, accuracy)\n",
        "    plt.xlabel('models', fontsize=10)\n",
        "    plt.ylabel('prediction accuracy', fontsize=10)\n",
        "    plt.xticks(index, model, fontsize=10, rotation=30)\n",
        "    plt.title('Accuracy of each model')\n",
        "    plt.show()\n",
        "\n",
        "plot_bar_x()"
      ],
      "metadata": {
        "colab": {
          "base_uri": "https://localhost:8080/",
          "height": 535
        },
        "id": "PXmtMDCjDUt_",
        "outputId": "9bb1d1fc-2321-4c0b-fc9c-05b4b6f72708"
      },
      "execution_count": null,
      "outputs": [
        {
          "output_type": "display_data",
          "data": {
            "text/plain": [
              "<Figure size 640x480 with 1 Axes>"
            ],
            "image/png": "[encoded data removed]"
          },
          "metadata": {}
        }
      ]
    },
    {
      "cell_type": "code",
      "source": [],
      "metadata": {
        "id": "_fDHNfyfDWtn"
      },
      "execution_count": null,
      "outputs": []
    }
  ]
}